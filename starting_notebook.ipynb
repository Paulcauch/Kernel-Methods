{
 "cells": [
  {
   "cell_type": "markdown",
   "metadata": {},
   "source": [
    "## IMPORT"
   ]
  },
  {
   "cell_type": "code",
   "execution_count": 7,
   "metadata": {},
   "outputs": [],
   "source": [
    "import numpy as np \n",
    "import pandas as pd \n",
    "import matplotlib.pyplot as plt\n",
    "import scipy\n",
    "from scipy.optimize import fmin_l_bfgs_b \n",
    "from cvxopt import matrix, solvers"
   ]
  },
  {
   "cell_type": "code",
   "execution_count": 8,
   "metadata": {},
   "outputs": [],
   "source": [
    "Xtr = np.array(pd.read_csv('data_image/Xtr.csv',header=None,sep=',',usecols=range(3072))) \n",
    "Xte = np.array(pd.read_csv('data_image/Xte.csv',header=None,sep=',',usecols=range(3072))) \n",
    "Ytr = np.array(pd.read_csv('data_image/Ytr.csv',sep=',',usecols=[1])).squeeze() "
   ]
  },
  {
   "cell_type": "markdown",
   "metadata": {},
   "source": [
    "## VIZUALISATION"
   ]
  },
  {
   "cell_type": "markdown",
   "metadata": {},
   "source": [
    "Let's visualize data :"
   ]
  },
  {
   "cell_type": "code",
   "execution_count": 9,
   "metadata": {},
   "outputs": [
    {
     "data": {
      "image/png": "[encoded data removed]",
      "text/plain": [
       "<Figure size 400x400 with 4 Axes>"
      ]
     },
     "metadata": {},
     "output_type": "display_data"
    }
   ],
   "source": [
    "def plot_images_grid(data, nrows, ncols):\n",
    "    fig, axes = plt.subplots(nrows=nrows, ncols=ncols, figsize=(ncols*2, nrows*2))\n",
    "    random=np.random.choice(data.shape[0],size=nrows*ncols)\n",
    "    #data=(data-np.min(data))/(np.max(data)-np.min(data))\n",
    "    for j, ax in enumerate(axes.flat):\n",
    "        i=random[j]\n",
    "        if i < data.shape[0]:\n",
    "            image_data = data[i, :]\n",
    "            \n",
    "            # Normaliser les données dans l'intervalle [0, 1]\n",
    "            # min_val = image_data.min()\n",
    "            # max_val = image_data.max()\n",
    "            # print(min_val,max_val)\n",
    "            # image_data = (image_data - min_val) / (max_val - min_val)\n",
    "            # print(image_data.max())\n",
    "            \n",
    "            red_channel = image_data[:1024].reshape((32, 32))\n",
    "            red_channel=(red_channel-red_channel.min())/(red_channel.max()-red_channel.min())\n",
    "            green_channel = image_data[1024:2048].reshape((32, 32))\n",
    "            green_channel=(green_channel-green_channel.min())/(green_channel.max()-green_channel.min())\n",
    "            blue_channel = image_data[2048:].reshape((32, 32))\n",
    "            blue_channel=(blue_channel-blue_channel.min())/(blue_channel.max()-blue_channel.min())\n",
    "            image = np.stack((red_channel, green_channel, blue_channel), axis=-1)\n",
    "\n",
    "            ax.imshow(image)\n",
    "            ax.axis('off')\n",
    "        else:\n",
    "            ax.axis('off')\n",
    "\n",
    "    plt.tight_layout()\n",
    "    plt.show()\n",
    "plot_images_grid(Xtr,2,2)"
   ]
  },
  {
   "cell_type": "markdown",
   "metadata": {},
   "source": [
    "## KERNELS"
   ]
  },
  {
   "cell_type": "markdown",
   "metadata": {},
   "source": [
    "Let's define some kernels :"
   ]
  },
  {
   "cell_type": "code",
   "execution_count": 10,
   "metadata": {},
   "outputs": [],
   "source": [
    "def noyau_gauss(X,sigma=1):\n",
    "    \"\"\"\n",
    "    Compute the matrix of the Gaussian Kernel : \n",
    "    \n",
    "    (K)_ij=K(X_i,X_j)=exp( 1/2*sigma^2 * ||X_i-X_j||^2 ) the Gaussian Kernel evaluated between the ith data and jth data\n",
    "\n",
    "    Parameters : \n",
    "    X : 2d array size (n,p) \n",
    "        the Data matrix with n the number of data and p the size of data\n",
    "    sigma : float \n",
    "             Variance of the GaussianKernel \n",
    "\n",
    "    Outputs :\n",
    "    2d array size (n,n)\n",
    "    Matrix of the Gaussian Kernel\n",
    "    \"\"\"\n",
    "    \n",
    "    return np.exp(-np.sum(X-X[:,None,:],axis=-1)/(2*sigma**2))"
   ]
  },
  {
   "cell_type": "code",
   "execution_count": 11,
   "metadata": {},
   "outputs": [],
   "source": [
    "def polynomial_kernel(X,d=2):\n",
    "    \"\"\"\n",
    "    Compute the matrix of the Polynomial Kernel : \n",
    "    \n",
    "    (K)_ij=K(X_i,X_j)=(<X_i,X_j>)^d the Polynomial Kernel of degree d evaluated between the ith data and jth data\n",
    "\n",
    "    Parameters : \n",
    "    X : 2d array size (n,p) \n",
    "        the Data matrix with n the number of data and p the size of data\n",
    "    d : Integer\n",
    "            Degree of the polynomial kernel\n",
    "\n",
    "    Outputs :\n",
    "    2d array size (n,n)\n",
    "    Matrix of the Gaussian Kernel\n",
    "    \"\"\"\n",
    "    X_intercept = np.concatenate((X,np.ones(X.shape[0]).reshape(-1,1)), axis=1)\n",
    "    return np.sum(X_intercept * X_intercept[:,None,:], axis=-1)**d"
   ]
  },
  {
   "cell_type": "markdown",
   "metadata": {},
   "source": [
    "## MODELS"
   ]
  },
  {
   "cell_type": "code",
   "execution_count": 12,
   "metadata": {},
   "outputs": [],
   "source": [
    "class Kernel_ridge_reg():\n",
    "    \"\"\"\n",
    "    Class which comput the solution to the Kernel Ridge Regression with regularization parameter lambda (lmbda)\n",
    "\n",
    "    ----> We have a close form for the solution : \n",
    "            alpha=(K+lambda*n*I)^-1y\n",
    "            pred=K@alpha\n",
    "    \"\"\"\n",
    "\n",
    "    def __init__(self,lmbda):\n",
    "        self.lmbda=lmbda\n",
    "\n",
    "    def train(self,K,y):\n",
    "        mat=K+self.lmbda*K.shape[0]*np.identity(K.shape[0])\n",
    "        self.alpha=scipy.linalg.solve(mat,y)\n",
    "    \n",
    "    def fit(self,K):\n",
    "        return K@self.alpha"
   ]
  },
  {
   "cell_type": "code",
   "execution_count": 13,
   "metadata": {},
   "outputs": [],
   "source": [
    "class Kernel_logistic_reg():\n",
    "    \"\"\"\n",
    "    Class which comput the solution to the Kernel logistic Regression with regularization parameter lambda (lmbda)\n",
    "\n",
    "    ----> We have to solve the smooth convex opti problem : \n",
    "            alpha=argmin 1/n sum_i=1^n logisitic(y_i[Kalpha]_i)+lambda/2 *alpha^T@K@alpha\n",
    "\n",
    "          We solve this with the L-FBGS form scipy\n",
    "\n",
    "          and then : \n",
    "            pred=K@alpha\n",
    "    \"\"\"\n",
    "\n",
    "    def __init__(self,lmbda,alpha0):\n",
    "        self.lmbda=lmbda\n",
    "        self.alpha0=alpha0\n",
    "\n",
    "    def obj(self,K,y,alpha):\n",
    "        n=len(K)\n",
    "        return np.sum(np.log(1+np.exp(-y*(K@alpha))))/n+self.lmbda*alpha.T@K@alpha/2\n",
    "\n",
    "    def derivative(self,K,y,alpha):\n",
    "        n=len(K)\n",
    "        P=-np.diag(1/(1+np.exp(y*(K@alpha))))\n",
    "        return K@P@y/n+self.lmbda*K@alpha\n",
    "\n",
    "    def train(self,K,y):\n",
    "        ob= lambda alpha : self.obj(K=K,y=y,alpha=alpha)\n",
    "        der=lambda alpha : self.derivative(K=K,y=y,alpha=alpha)\n",
    "        alpha,_,_=fmin_l_bfgs_b(ob, self.alpha0, der, args=(), pgtol=1e-50, factr =1e-50)\n",
    "        self.alpha=alpha\n",
    "    \n",
    "    def fit(self,K):\n",
    "        return K@self.alpha"
   ]
  },
  {
   "cell_type": "code",
   "execution_count": 14,
   "metadata": {},
   "outputs": [],
   "source": [
    "class SVM():\n",
    "     \"\"\"\n",
    "    Class which train SVM models with Kernels methods takes a dataset with labels in {-1,1} \n",
    "\n",
    "    \"\"\"\n",
    "     def __init__(self,lmbda):\n",
    "          self.lmbda = lmbda\n",
    "\n",
    "     def train(self,K,y):\n",
    "          \"\"\" \n",
    "          We want to solve max mu^T@1 - 1/4*lambda mu^t@diag(y)@K@diag(y)@mu for 0<=mu<=1/n\n",
    "          and then we have :\n",
    "               alpha=diag(y)@mu/2*lambda\n",
    "\n",
    "          We use the package cvxopt wich solve : \n",
    "               min 1/2x^T@P@x + q^T@x for Gx<=h and Ax=b\n",
    "          \"\"\"\n",
    "          n=len(K)\n",
    "\n",
    "          q = -np.ones(n)\n",
    "          P = np.diag(y) @ K @np.diag(y) / (2*self.lmbda)\n",
    "          G = np.concatenate((np.identity(n),-np.identity(n)),axis=0)\n",
    "          h = np.concatenate((np.ones(n)/n , np.zeros(n)),axis=0)[:,None]\n",
    "\n",
    "          mu=solvers.qp(P=matrix(P),q=matrix(q),G=matrix(G),h=matrix(h))['x']\n",
    "          \n",
    "          self.alpha=np.diag(y)@mu / (2*self.lmbda)\n",
    "     \n",
    "     def fit(self,K):\n",
    "          return np.sign(K@self.alpha)\n",
    "     \n",
    "     def pred_prob(self,K):\n",
    "          return K@self.alpha\n",
    "     \n"
   ]
  },
  {
   "cell_type": "markdown",
   "metadata": {},
   "source": [
    "## UTILS FUNCTION"
   ]
  },
  {
   "cell_type": "code",
   "execution_count": 15,
   "metadata": {},
   "outputs": [],
   "source": [
    "def create_reduce_dataset(X,Y,k,size):\n",
    "    \"\"\" \n",
    "    Create a dataset of size = 18*size with 50% of class k and 50% random classes  \n",
    "    \n",
    "    and transform the labels of class k in 1 and the labels of the others classes in -1 \n",
    "    \"\"\"\n",
    "\n",
    "    Y_new=np.array([])\n",
    "    X_new=np.random.randint(2,size=(1,X.shape[1]))\n",
    "\n",
    "    for i in range(len(np.unique(Y))):\n",
    "        if i == k :\n",
    "            ind=np.random.choice(np.array(np.where(Y==i))[0],size=size*9)\n",
    "        else :\n",
    "            ind=np.random.choice(np.array(np.where(Y==i))[0],size=size)\n",
    "        X_new=np.concatenate((X_new,X[ind]))\n",
    "        if i==k:\n",
    "            Y_new=np.concatenate((Y_new,np.ones(size*9)))\n",
    "        else :\n",
    "            Y_new=np.concatenate((Y_new,-np.ones(size)))\n",
    "            \n",
    "    X_new=X_new[1:]\n",
    "    ind=np.arange(Y_new.shape[0])\n",
    "    np.random.shuffle(ind)\n",
    "    Y_shuffled=Y_new[ind]\n",
    "    X_shuffled=X_new[ind]\n",
    "    return X_shuffled,Y_shuffled"
   ]
  },
  {
   "cell_type": "code",
   "execution_count": 16,
   "metadata": {},
   "outputs": [],
   "source": [
    "def accuracy(y_pred,y_test):\n",
    "    return np.sum(y_pred==y_test)/len(y_pred)"
   ]
  },
  {
   "cell_type": "markdown",
   "metadata": {},
   "source": [
    "## RUN CODE"
   ]
  },
  {
   "cell_type": "markdown",
   "metadata": {},
   "source": [
    "Let's try with the class k=4 and a dataset of size train : 600 and test : 300 "
   ]
  },
  {
   "cell_type": "markdown",
   "metadata": {},
   "source": [
    "The goal is that the classifier classify well the class k from the others class "
   ]
  },
  {
   "cell_type": "code",
   "execution_count": 17,
   "metadata": {},
   "outputs": [],
   "source": [
    "X,Y=create_reduce_dataset(Xtr,Ytr,k=4,size=50)\n",
    "X_train=X[:600]\n",
    "X_test=X[600:900]\n",
    "Y_train=Y[:600]\n",
    "Y_test=Y[600:900]\n",
    "Big_X=np.concatenate((X_train,X_test),axis=0)"
   ]
  },
  {
   "cell_type": "markdown",
   "metadata": {},
   "source": [
    "Let's compute the Grams Matrix (let's try with polynomial kernel), it takes a lot of time (1min40 for 900x900 kernel) : "
   ]
  },
  {
   "cell_type": "code",
   "execution_count": 18,
   "metadata": {},
   "outputs": [],
   "source": [
    "K = polynomial_kernel(Big_X)\n",
    "K_train = K[:len(X_train),:len(X_train)]\n",
    "K_test = K[len(X_train):,:len(X_train)]"
   ]
  },
  {
   "cell_type": "markdown",
   "metadata": {},
   "source": [
    "Let's try differents models : "
   ]
  },
  {
   "cell_type": "code",
   "execution_count": 33,
   "metadata": {},
   "outputs": [
    {
     "data": {
      "text/plain": [
       "0.6233333333333333"
      ]
     },
     "execution_count": 33,
     "metadata": {},
     "output_type": "execute_result"
    }
   ],
   "source": [
    "# RIDGE REG not very appropriated for the problem (classification != regression )\n",
    "classifier=Kernel_ridge_reg(lmbda=0.1)\n",
    "\n",
    "classifier.train(K_train,Y_train) \n",
    "\n",
    "Y_pred = classifier.fit(K_test)\n",
    "\n",
    "accuracy(np.sign(Y_pred),Y_test)"
   ]
  },
  {
   "cell_type": "code",
   "execution_count": 27,
   "metadata": {},
   "outputs": [
    {
     "data": {
      "text/plain": [
       "0.5733333333333334"
      ]
     },
     "execution_count": 27,
     "metadata": {},
     "output_type": "execute_result"
    }
   ],
   "source": [
    "# Logistic REG \n",
    "classifier=Kernel_logistic_reg(lmbda=0.1,alpha0=np.random.rand(len(X_train)))\n",
    "\n",
    "classifier.train(K_train,Y_train)\n",
    "\n",
    "Y_pred = classifier.fit(K_test)\n",
    "\n",
    "accuracy(np.sign(Y_pred),Y_test)"
   ]
  },
  {
   "cell_type": "code",
   "execution_count": 32,
   "metadata": {},
   "outputs": [
    {
     "name": "stdout",
     "output_type": "stream",
     "text": [
      "     pcost       dcost       gap    pres   dres\n",
      " 0: -5.6818e+00 -6.2326e+00  1e+03  4e+01  1e-15\n",
      " 1: -5.5514e+00 -5.3951e+00  9e+01  3e+00  7e-16\n",
      " 2: -3.1908e+00 -2.3902e+00  1e+01  3e-01  9e-16\n",
      " 3: -9.5433e-01 -1.6593e+00  1e+00  1e-02  2e-15\n",
      " 4: -9.0197e-01 -9.6369e-01  6e-02  1e-04  5e-16\n",
      " 5: -9.2854e-01 -9.3046e-01  2e-03  4e-06  4e-16\n",
      " 6: -9.2941e-01 -9.2945e-01  4e-05  7e-08  4e-16\n",
      " 7: -9.2943e-01 -9.2943e-01  4e-07  7e-10  4e-16\n",
      "Optimal solution found.\n"
     ]
    },
    {
     "data": {
      "text/plain": [
       "0.5333333333333333"
      ]
     },
     "execution_count": 32,
     "metadata": {},
     "output_type": "execute_result"
    }
   ],
   "source": [
    "classifier=SVM(lmbda=0.2)\n",
    "\n",
    "classifier.train(K_train,Y_train)\n",
    "\n",
    "Y_pred = classifier.fit(K_test)\n",
    "\n",
    "accuracy(Y_pred[:,0],Y_test)"
   ]
  },
  {
   "cell_type": "markdown",
   "metadata": {},
   "source": [
    "Let's try to do a loop and attributing an SVM for all classes : "
   ]
  }
 ],
 "metadata": {
  "kernelspec": {
   "display_name": "base",
   "language": "python",
   "name": "python3"
  },
  "language_info": {
   "codemirror_mode": {
    "name": "ipython",
    "version": 3
   },
   "file_extension": ".py",
   "mimetype": "text/x-python",
   "name": "python",
   "nbconvert_exporter": "python",
   "pygments_lexer": "ipython3",
   "version": "3.11.4"
  }
 },
 "nbformat": 4,
 "nbformat_minor": 2
}
